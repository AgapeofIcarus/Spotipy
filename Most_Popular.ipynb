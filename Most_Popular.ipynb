{
 "cells": [
  {
   "cell_type": "code",
   "execution_count": 18,
   "metadata": {
    "collapsed": true,
    "deletable": true,
    "editable": true
   },
   "outputs": [],
   "source": [
    "# Chase's Branch"
   ]
  },
  {
   "cell_type": "code",
   "execution_count": 19,
   "metadata": {
    "collapsed": true,
    "deletable": true,
    "editable": true
   },
   "outputs": [],
   "source": [
    "#clean up csv files\n",
    "import pandas as pd"
   ]
  },
  {
   "cell_type": "code",
   "execution_count": 20,
   "metadata": {
    "collapsed": true,
    "deletable": true,
    "editable": true
   },
   "outputs": [],
   "source": [
    "#variables for files\n",
    "data = 'Data/clean_df.csv'\n",
    "genre_data = 'Data/clean_genre.csv'"
   ]
  },
  {
   "cell_type": "code",
   "execution_count": 21,
   "metadata": {
    "collapsed": false,
    "deletable": true,
    "editable": true
   },
   "outputs": [],
   "source": [
    "#import csvs\n",
    "genre_data = pd.read_csv(genre_data)\n",
    "data = pd.read_csv(data)"
   ]
  },
  {
   "cell_type": "code",
   "execution_count": 22,
   "metadata": {
    "collapsed": false,
    "deletable": true,
    "editable": true
   },
   "outputs": [
    {
     "data": {
      "text/html": [
       "<div>\n",
       "<style scoped>\n",
       "    .dataframe tbody tr th:only-of-type {\n",
       "        vertical-align: middle;\n",
       "    }\n",
       "\n",
       "    .dataframe tbody tr th {\n",
       "        vertical-align: top;\n",
       "    }\n",
       "\n",
       "    .dataframe thead th {\n",
       "        text-align: right;\n",
       "    }\n",
       "</style>\n",
       "<table border=\"1\" class=\"dataframe\">\n",
       "  <thead>\n",
       "    <tr style=\"text-align: right;\">\n",
       "      <th></th>\n",
       "      <th>Genres</th>\n",
       "      <th>Danceability (0-1)</th>\n",
       "      <th>Tempo (BPM)</th>\n",
       "      <th>Popularity (0-100)</th>\n",
       "      <th>Key</th>\n",
       "      <th>Mode</th>\n",
       "    </tr>\n",
       "  </thead>\n",
       "  <tbody>\n",
       "    <tr>\n",
       "      <th>0</th>\n",
       "      <td>21st century classical</td>\n",
       "      <td>0.284100</td>\n",
       "      <td>91.351000</td>\n",
       "      <td>6.600000</td>\n",
       "      <td>E</td>\n",
       "      <td>Major</td>\n",
       "    </tr>\n",
       "    <tr>\n",
       "      <th>1</th>\n",
       "      <td>432hz</td>\n",
       "      <td>0.312000</td>\n",
       "      <td>118.900933</td>\n",
       "      <td>41.200000</td>\n",
       "      <td>B</td>\n",
       "      <td>Major</td>\n",
       "    </tr>\n",
       "    <tr>\n",
       "      <th>2</th>\n",
       "      <td>8-bit</td>\n",
       "      <td>0.673000</td>\n",
       "      <td>192.816000</td>\n",
       "      <td>0.000000</td>\n",
       "      <td>F</td>\n",
       "      <td>Major</td>\n",
       "    </tr>\n",
       "    <tr>\n",
       "      <th>3</th>\n",
       "      <td>a cappella</td>\n",
       "      <td>0.516172</td>\n",
       "      <td>105.506031</td>\n",
       "      <td>39.086248</td>\n",
       "      <td>G</td>\n",
       "      <td>Major</td>\n",
       "    </tr>\n",
       "    <tr>\n",
       "      <th>4</th>\n",
       "      <td>abstract</td>\n",
       "      <td>0.473600</td>\n",
       "      <td>142.495400</td>\n",
       "      <td>43.800000</td>\n",
       "      <td>F</td>\n",
       "      <td>Major</td>\n",
       "    </tr>\n",
       "    <tr>\n",
       "      <th>...</th>\n",
       "      <td>...</td>\n",
       "      <td>...</td>\n",
       "      <td>...</td>\n",
       "      <td>...</td>\n",
       "      <td>...</td>\n",
       "      <td>...</td>\n",
       "    </tr>\n",
       "    <tr>\n",
       "      <th>3226</th>\n",
       "      <td>zim urban groove</td>\n",
       "      <td>0.553000</td>\n",
       "      <td>134.995000</td>\n",
       "      <td>9.000000</td>\n",
       "      <td>G</td>\n",
       "      <td>Major</td>\n",
       "    </tr>\n",
       "    <tr>\n",
       "      <th>3227</th>\n",
       "      <td>zolo</td>\n",
       "      <td>0.533837</td>\n",
       "      <td>126.765194</td>\n",
       "      <td>31.108254</td>\n",
       "      <td>A</td>\n",
       "      <td>Major</td>\n",
       "    </tr>\n",
       "    <tr>\n",
       "      <th>3228</th>\n",
       "      <td>zouk</td>\n",
       "      <td>0.641889</td>\n",
       "      <td>105.848889</td>\n",
       "      <td>32.555556</td>\n",
       "      <td>G</td>\n",
       "      <td>Major</td>\n",
       "    </tr>\n",
       "    <tr>\n",
       "      <th>3229</th>\n",
       "      <td>zurich indie</td>\n",
       "      <td>0.705667</td>\n",
       "      <td>91.278000</td>\n",
       "      <td>0.000000</td>\n",
       "      <td>G</td>\n",
       "      <td>Minor</td>\n",
       "    </tr>\n",
       "    <tr>\n",
       "      <th>3230</th>\n",
       "      <td>zydeco</td>\n",
       "      <td>0.625963</td>\n",
       "      <td>130.137242</td>\n",
       "      <td>27.703810</td>\n",
       "      <td>A</td>\n",
       "      <td>Major</td>\n",
       "    </tr>\n",
       "  </tbody>\n",
       "</table>\n",
       "<p>3231 rows × 6 columns</p>\n",
       "</div>"
      ],
      "text/plain": [
       "                      Genres  Danceability (0-1)  Tempo (BPM)  \\\n",
       "0     21st century classical            0.284100    91.351000   \n",
       "1                      432hz            0.312000   118.900933   \n",
       "2                      8-bit            0.673000   192.816000   \n",
       "3                 a cappella            0.516172   105.506031   \n",
       "4                   abstract            0.473600   142.495400   \n",
       "...                      ...                 ...          ...   \n",
       "3226        zim urban groove            0.553000   134.995000   \n",
       "3227                    zolo            0.533837   126.765194   \n",
       "3228                    zouk            0.641889   105.848889   \n",
       "3229            zurich indie            0.705667    91.278000   \n",
       "3230                  zydeco            0.625963   130.137242   \n",
       "\n",
       "      Popularity (0-100) Key   Mode  \n",
       "0               6.600000   E  Major  \n",
       "1              41.200000   B  Major  \n",
       "2               0.000000   F  Major  \n",
       "3              39.086248   G  Major  \n",
       "4              43.800000   F  Major  \n",
       "...                  ...  ..    ...  \n",
       "3226            9.000000   G  Major  \n",
       "3227           31.108254   A  Major  \n",
       "3228           32.555556   G  Major  \n",
       "3229            0.000000   G  Minor  \n",
       "3230           27.703810   A  Major  \n",
       "\n",
       "[3231 rows x 6 columns]"
      ]
     },
     "execution_count": 22,
     "metadata": {},
     "output_type": "execute_result"
    }
   ],
   "source": [
    "genre_data"
   ]
  }
 ],
 "metadata": {
  "kernelspec": {
   "display_name": "PythonData",
   "language": "python",
   "name": "pythondata"
  },
  "language_info": {
   "codemirror_mode": {
    "name": "ipython",
    "version": 3
   },
   "file_extension": ".py",
   "mimetype": "text/x-python",
   "name": "python",
   "nbconvert_exporter": "python",
   "pygments_lexer": "ipython3",
   "version": "3.6.10"
  }
 },
 "nbformat": 4,
 "nbformat_minor": 2
}
